{
 "cells": [
  {
   "cell_type": "code",
   "execution_count": 1,
   "metadata": {},
   "outputs": [
    {
     "name": "stdout",
     "output_type": "stream",
     "text": [
      "Add went well\n",
      "20\n"
     ]
    }
   ],
   "source": [
    "try:\n",
    "    result = 10 + 10\n",
    "except:\n",
    "    print('Not adding correctly')\n",
    "else:\n",
    "    print('Add went well')\n",
    "    print(result)"
   ]
  },
  {
   "cell_type": "code",
   "execution_count": 2,
   "metadata": {},
   "outputs": [
    {
     "data": {
      "text/plain": [
       "20"
      ]
     },
     "execution_count": 2,
     "metadata": {},
     "output_type": "execute_result"
    }
   ],
   "source": [
    "result"
   ]
  },
  {
   "cell_type": "code",
   "execution_count": 3,
   "metadata": {},
   "outputs": [
    {
     "name": "stdout",
     "output_type": "stream",
     "text": [
      "OS Error\n",
      "finally always run\n"
     ]
    }
   ],
   "source": [
    "# Try Except Finally\n",
    "try:\n",
    "    # If error\n",
    "    f = open('test.Text', 'r')\n",
    "    f.write('Write a test line')\n",
    "\n",
    "# Do this\n",
    "except TypeError:\n",
    "    print('There was a type error!')\n",
    "\n",
    "except OSError:\n",
    "    print('OS Error')\n",
    "\n",
    "except:\n",
    "    print('All other exceptions')\n",
    "\n",
    "# Always print this\n",
    "finally:\n",
    "    print('finally always run')"
   ]
  },
  {
   "cell_type": "code",
   "execution_count": 21,
   "metadata": {},
   "outputs": [],
   "source": [
    "def always_int():\n",
    "\n",
    "    while True:\n",
    "        try:\n",
    "            input_user = int(input('Input Always number : '))\n",
    "        except:\n",
    "            print('Its not a number')\n",
    "            continue\n",
    "        else:\n",
    "            print(\"Yes Thank you {} is a number!\".format(input_user))\n",
    "            break\n",
    "        finally:\n",
    "            print('I WILL RUN FOREVER!!')"
   ]
  },
  {
   "cell_type": "code",
   "execution_count": 22,
   "metadata": {},
   "outputs": [
    {
     "name": "stdout",
     "output_type": "stream",
     "text": [
      "Yes Thank you 1 is a number!\n",
      "I WILL RUN FOREVER!!\n"
     ]
    }
   ],
   "source": [
    "always_int()"
   ]
  },
  {
   "cell_type": "code",
   "execution_count": 11,
   "metadata": {},
   "outputs": [],
   "source": [
    "def ask_for_int():\n",
    "    try:\n",
    "        result = int(input('Please input number: '))\n",
    "    except:\n",
    "        print('Not a number')\n",
    "    finally:\n",
    "        print('End of try/except/finnaly')"
   ]
  },
  {
   "cell_type": "markdown",
   "metadata": {},
   "source": [
    "## <b> Homework"
   ]
  },
  {
   "cell_type": "code",
   "execution_count": 23,
   "metadata": {},
   "outputs": [
    {
     "name": "stdout",
     "output_type": "stream",
     "text": [
      "Error woi\n"
     ]
    }
   ],
   "source": [
    "try:\n",
    "    for i in ['a', 'b', 'c']:\n",
    "        print(i**2)\n",
    "except:\n",
    "    print('Error woi')"
   ]
  },
  {
   "cell_type": "code",
   "execution_count": 27,
   "metadata": {},
   "outputs": [
    {
     "name": "stdout",
     "output_type": "stream",
     "text": [
      "Error woi\n",
      "All done!\n"
     ]
    }
   ],
   "source": [
    "try:\n",
    "    x = 5\n",
    "    y = 0\n",
    "    z = x/y\n",
    "except:\n",
    "    print('Error woi')\n",
    "\n",
    "finally:\n",
    "    print('All done!')"
   ]
  },
  {
   "cell_type": "code",
   "execution_count": 28,
   "metadata": {},
   "outputs": [],
   "source": [
    "def ask():\n",
    "    while True:\n",
    "        try:\n",
    "            input_num = int(input('Input an Integer'))\n",
    "        except:\n",
    "            print('An error occured! Please try again!')\n",
    "            continue\n",
    "        else:\n",
    "            print(f'Thank you, your number squared is {input_num ** 2}')\n",
    "            break;"
   ]
  },
  {
   "cell_type": "code",
   "execution_count": 29,
   "metadata": {},
   "outputs": [
    {
     "name": "stdout",
     "output_type": "stream",
     "text": [
      "Thank you, your number squared is 4\n"
     ]
    }
   ],
   "source": [
    "ask()"
   ]
  },
  {
   "cell_type": "markdown",
   "metadata": {},
   "source": [
    "## <b> Testing Code"
   ]
  },
  {
   "cell_type": "code",
   "execution_count": null,
   "metadata": {},
   "outputs": [],
   "source": [
    "# Testing tools : Pylint, Unittest\n"
   ]
  }
 ],
 "metadata": {
  "interpreter": {
   "hash": "aee8b7b246df8f9039afb4144a1f6fd8d2ca17a180786b69acc140d282b71a49"
  },
  "kernelspec": {
   "display_name": "Python 3.9.7 64-bit",
   "language": "python",
   "name": "python3"
  },
  "language_info": {
   "codemirror_mode": {
    "name": "ipython",
    "version": 3
   },
   "file_extension": ".py",
   "mimetype": "text/x-python",
   "name": "python",
   "nbconvert_exporter": "python",
   "pygments_lexer": "ipython3",
   "version": "3.9.7"
  },
  "orig_nbformat": 4
 },
 "nbformat": 4,
 "nbformat_minor": 2
}
