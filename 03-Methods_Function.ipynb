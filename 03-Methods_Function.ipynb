{
 "cells": [
  {
   "cell_type": "markdown",
   "metadata": {},
   "source": [
    "## <b> Method"
   ]
  },
  {
   "cell_type": "code",
   "execution_count": 10,
   "metadata": {},
   "outputs": [],
   "source": [
    "# Method\n",
    "# Built-in objects in python\n",
    "\n",
    "mylist = [1, 2, 3]"
   ]
  },
  {
   "cell_type": "code",
   "execution_count": 11,
   "metadata": {},
   "outputs": [],
   "source": [
    "mylist.append(4)\n",
    "mylist.sort(reverse=True)"
   ]
  },
  {
   "cell_type": "code",
   "execution_count": 12,
   "metadata": {},
   "outputs": [
    {
     "name": "stdout",
     "output_type": "stream",
     "text": [
      "Help on built-in function append:\n",
      "\n",
      "append(object, /) method of builtins.list instance\n",
      "    Append object to the end of the list.\n",
      "\n"
     ]
    }
   ],
   "source": [
    "# Open documentation, more in docs.python.org\n",
    "help(mylist.append)"
   ]
  },
  {
   "cell_type": "code",
   "execution_count": 13,
   "metadata": {},
   "outputs": [
    {
     "data": {
      "text/plain": [
       "[4, 3, 2, 1]"
      ]
     },
     "execution_count": 13,
     "metadata": {},
     "output_type": "execute_result"
    }
   ],
   "source": [
    "mylist"
   ]
  },
  {
   "cell_type": "markdown",
   "metadata": {},
   "source": [
    "## <b> Function"
   ]
  },
  {
   "cell_type": "code",
   "execution_count": 16,
   "metadata": {},
   "outputs": [
    {
     "name": "stdout",
     "output_type": "stream",
     "text": [
      "Hello world\n",
      "My name is Raihan\n"
     ]
    }
   ],
   "source": [
    "# Repeatable code\n",
    "# Snake casing for name (all lowercase with underscore between word)\n",
    "# Use snake casing for readable\n",
    "# use ''' function definition ''' to make docstring explains function\n",
    "\n",
    "# Example 1\n",
    "def hello_world():\n",
    "    '''\n",
    "    Function to print Hello world\n",
    "    '''\n",
    "    print('Hello world')\n",
    "\n",
    "hello_world()\n",
    "\n",
    "# Example 2\n",
    "def my_name_is(name):\n",
    "    '''\n",
    "    Function to print my name\n",
    "    '''\n",
    "    print(f'My name is {name}')\n",
    "\n",
    "my_name_is('Raihan')"
   ]
  },
  {
   "cell_type": "code",
   "execution_count": 20,
   "metadata": {},
   "outputs": [
    {
     "name": "stdout",
     "output_type": "stream",
     "text": [
      "3\n"
     ]
    }
   ],
   "source": [
    "# Use Return to assign the output to a new variable\n",
    "def add_two_number(number1, number2):\n",
    "    return number1 + number2\n",
    "\n",
    "return_function = add_two_number(1,2)\n",
    "print(return_function)"
   ]
  },
  {
   "cell_type": "code",
   "execution_count": 28,
   "metadata": {},
   "outputs": [
    {
     "name": "stdout",
     "output_type": "stream",
     "text": [
      "Hello\n"
     ]
    }
   ],
   "source": [
    "def say_hello():\n",
    "    print('Hello')\n",
    "\n",
    "say_hello()"
   ]
  },
  {
   "cell_type": "code",
   "execution_count": 30,
   "metadata": {},
   "outputs": [
    {
     "name": "stdout",
     "output_type": "stream",
     "text": [
      "Hello Default\n"
     ]
    }
   ],
   "source": [
    "def say_hello(name='Default'):\n",
    "    print(f'Hello {name}')\n",
    "\n",
    "# Initialize default to handling error\n",
    "say_hello()"
   ]
  },
  {
   "cell_type": "code",
   "execution_count": 31,
   "metadata": {},
   "outputs": [
    {
     "data": {
      "text/plain": [
       "'1010'"
      ]
     },
     "execution_count": 31,
     "metadata": {},
     "output_type": "execute_result"
    }
   ],
   "source": [
    "# Python is dynamic type, possible to bugs\n",
    "add_two_number('10','10')"
   ]
  },
  {
   "cell_type": "code",
   "execution_count": 34,
   "metadata": {},
   "outputs": [
    {
     "data": {
      "text/plain": [
       "True"
      ]
     },
     "execution_count": 34,
     "metadata": {},
     "output_type": "execute_result"
    }
   ],
   "source": [
    "# Function with Logid\n",
    "\n",
    "# Example 1 :\n",
    "def check_if_even(number1):\n",
    "    return number1 % 2 == 0\n",
    "\n",
    "check_if_even(10)"
   ]
  },
  {
   "cell_type": "code",
   "execution_count": 104,
   "metadata": {},
   "outputs": [
    {
     "data": {
      "text/plain": [
       "[2, 4, 6, 8, 10, 12, 14, 16, 18]"
      ]
     },
     "execution_count": 104,
     "metadata": {},
     "output_type": "execute_result"
    }
   ],
   "source": [
    "# Example 2:\n",
    "def even_inside_list(num_list):\n",
    "    even_num_list = []\n",
    "    for i in num_list:\n",
    "        even_num_list = [x for x in num_list if x % 2 == 0]\n",
    "    return even_num_list\n",
    "\n",
    "listtt = even_inside_list([i for i in range(1,20)])\n",
    "listtt"
   ]
  },
  {
   "cell_type": "code",
   "execution_count": 105,
   "metadata": {},
   "outputs": [
    {
     "data": {
      "text/plain": [
       "[2]"
      ]
     },
     "execution_count": 105,
     "metadata": {},
     "output_type": "execute_result"
    }
   ],
   "source": [
    "listtt = even_inside_list([1,1,1,1,1,2])\n",
    "listtt"
   ]
  },
  {
   "cell_type": "code",
   "execution_count": 102,
   "metadata": {},
   "outputs": [
    {
     "data": {
      "text/plain": [
       "True"
      ]
     },
     "execution_count": 102,
     "metadata": {},
     "output_type": "execute_result"
    }
   ],
   "source": [
    "def check_even_list(num_list):\n",
    "    \n",
    "    for i in num_list:\n",
    "        if i % 2 == 0:\n",
    "            return True\n",
    "        else:\n",
    "            # Not do anything\n",
    "            pass\n",
    "\n",
    "    return False\n",
    "\n",
    "result = check_even_list([1,2,3,4,5,6,7])\n",
    "result"
   ]
  },
  {
   "cell_type": "code",
   "execution_count": 107,
   "metadata": {},
   "outputs": [
    {
     "name": "stdout",
     "output_type": "stream",
     "text": [
      "('APPL', 200)\n",
      "('GOOG', 400)\n"
     ]
    }
   ],
   "source": [
    "# Tuple Unpacking\n",
    "stock_prices = [('APPL',200),('GOOG',400)]\n",
    "for i in stock_prices:\n",
    "    print(i)"
   ]
  },
  {
   "cell_type": "code",
   "execution_count": 108,
   "metadata": {},
   "outputs": [
    {
     "name": "stdout",
     "output_type": "stream",
     "text": [
      "APPL200\n",
      "GOOG400\n"
     ]
    }
   ],
   "source": [
    "for ticker, price in stock_prices:\n",
    "    print(f'{ticker}{price}')"
   ]
  },
  {
   "cell_type": "code",
   "execution_count": 114,
   "metadata": {},
   "outputs": [
    {
     "name": "stdout",
     "output_type": "stream",
     "text": [
      "Name : RRR, Work for 100\n",
      "Name : SY, Work for 200\n",
      "Name : ZZA, Work for 150\n"
     ]
    }
   ],
   "source": [
    "# Function\n",
    "work_hours = [('RRR',100),('SY',200),('ZZA',150)]\n",
    "def unpacking_tuple(list_tuple):\n",
    "    for name, hours in work_hours:\n",
    "        print (f'Name : {name}, Work for {hours}')\n",
    "\n",
    "unpacking_tuple(work_hours)\n"
   ]
  },
  {
   "cell_type": "code",
   "execution_count": 123,
   "metadata": {},
   "outputs": [
    {
     "name": "stdout",
     "output_type": "stream",
     "text": [
      "SY is the employee of the month with 200H\n"
     ]
    },
    {
     "data": {
      "text/plain": [
       "('SY', 200)"
      ]
     },
     "execution_count": 123,
     "metadata": {},
     "output_type": "execute_result"
    }
   ],
   "source": [
    "def employee_check(work_hours):\n",
    "    current_max_hour = 0\n",
    "    employee_of_the_month = ''\n",
    "\n",
    "    for name, hour in work_hours:\n",
    "        if hour > current_max_hour:\n",
    "            current_max_hour = hour\n",
    "            employee_of_the_month = name\n",
    "\n",
    "    print(f'{employee_of_the_month} is the employee of the month with {current_max_hour}H')\n",
    "    return(employee_of_the_month, current_max_hour)\n",
    "\n",
    "employee_check(work_hours)"
   ]
  },
  {
   "cell_type": "code",
   "execution_count": 165,
   "metadata": {},
   "outputs": [],
   "source": [
    "# Interaction between function (Game)\n",
    "# Use output another function to be input to another function\n",
    "\n",
    "from random import shuffle\n",
    "\n",
    "def shuffle_list(example):\n",
    "    \n",
    "    shuffle(example)\n",
    "    return example"
   ]
  },
  {
   "cell_type": "code",
   "execution_count": 172,
   "metadata": {},
   "outputs": [],
   "source": [
    "def player_guess():\n",
    "    \n",
    "    guess = ''\n",
    "\n",
    "    while guess not in ['0', '1', '2']:\n",
    "        guess = input(\"Pick a number : 0,1, or 2\")\n",
    "\n",
    "    return int(guess)"
   ]
  },
  {
   "cell_type": "code",
   "execution_count": 173,
   "metadata": {},
   "outputs": [
    {
     "data": {
      "text/plain": [
       "1"
      ]
     },
     "execution_count": 173,
     "metadata": {},
     "output_type": "execute_result"
    }
   ],
   "source": [
    "player_index = player_guess()\n",
    "player_index"
   ]
  },
  {
   "cell_type": "code",
   "execution_count": 223,
   "metadata": {},
   "outputs": [],
   "source": [
    "# Interacting 2 Function\n",
    "\n",
    "example = ['','O','']\n",
    "def check_answer(example, player_index):\n",
    "    if example[player_index] == 'O':\n",
    "        print(\"WIN WIN CHICKEN WINNER\")\n",
    "    else:\n",
    "        print('IDIOT')\n",
    "        print(example)"
   ]
  },
  {
   "cell_type": "code",
   "execution_count": 224,
   "metadata": {},
   "outputs": [
    {
     "name": "stdout",
     "output_type": "stream",
     "text": [
      "IDIOT\n",
      "[' ', 'O', ' ']\n"
     ]
    }
   ],
   "source": [
    "mylist = [' ', 'O', ' ']\n",
    "\n",
    "mix_list = shuffle_list(mylist)\n",
    "\n",
    "guess = player_guess()\n",
    "\n",
    "check_answer(mix_list, guess)"
   ]
  },
  {
   "cell_type": "code",
   "execution_count": 236,
   "metadata": {},
   "outputs": [
    {
     "name": "stdout",
     "output_type": "stream",
     "text": [
      "{'car': 'brio', 'fruits': 'apple', 'school': 'CM'}\n",
      "Nor find any fruit\n"
     ]
    }
   ],
   "source": [
    "# *args and **kwargs\n",
    "# We can add many number without adding on parameter with *args\n",
    "\n",
    "# *args return tuple ()\n",
    "def myfun_with_args(*args):\n",
    "    ''' \n",
    "    return 5% of the sum of a and b\n",
    "    '''\n",
    "\n",
    "    return(sum(args) * 0.05)\n",
    "\n",
    "myfun_with_args(1,2,3,4,5,6,7,8,9)\n",
    "\n",
    "\n",
    "# **kwargs return dictio\n",
    "def myfun_with_kwargs(**kwargs):\n",
    "    print(kwargs)\n",
    "    if 'fruit' in kwargs:\n",
    "        print('My fruit is {}'.format(kwargs['fruit']))\n",
    "    else:\n",
    "        print('Nor find any fruit')\n",
    "\n",
    "myfun_with_kwargs(car = 'brio', fruits = 'apple', school = 'CM')\n",
    "\n"
   ]
  },
  {
   "cell_type": "code",
   "execution_count": 237,
   "metadata": {},
   "outputs": [
    {
     "name": "stdout",
     "output_type": "stream",
     "text": [
      "I like 10 Burger\n"
     ]
    }
   ],
   "source": [
    "# Print number index 0 with args, and print dictionary with key = food with kwargs\n",
    "def myfunc_args_kwargs(*args, **kwargs):\n",
    "    print('I like {} {}'.format(args[0], kwargs['food']))\n",
    "\n",
    "myfunc_args_kwargs(10,20,30,food = 'Burger')"
   ]
  },
  {
   "cell_type": "code",
   "execution_count": 268,
   "metadata": {},
   "outputs": [
    {
     "name": "stdout",
     "output_type": "stream",
     "text": [
      "HeLlO\n"
     ]
    }
   ],
   "source": [
    "def myfunc(some_string):\n",
    "\n",
    "    for i in some_string:\n",
    "        if i % 2 == 0:\n",
    "            i.upper\n",
    "\n",
    "\n",
    "s = 'Hello'\n",
    "result = []\n",
    "for i in range(len(s)):\n",
    "    if i % 2 == 0:\n",
    "        result.append(s[i].upper())\n",
    "    else:\n",
    "        result.append(s[i].lower())\n",
    "\n",
    "print(''.join(result))"
   ]
  },
  {
   "cell_type": "code",
   "execution_count": 269,
   "metadata": {},
   "outputs": [
    {
     "data": {
      "text/plain": [
       "<map at 0x7fc860bae370>"
      ]
     },
     "execution_count": 269,
     "metadata": {},
     "output_type": "execute_result"
    }
   ],
   "source": [
    "# Lambda Expression, Map and Filter\n",
    "\n",
    "# Map Function\n",
    "def square(number):\n",
    "    return number ** 2\n",
    "\n",
    "mynums = [1,2,3,4,5]\n",
    "\n",
    "# We dont have to loop, Map to every single item in the list\n",
    "map(square, mynums)"
   ]
  },
  {
   "cell_type": "code",
   "execution_count": 272,
   "metadata": {},
   "outputs": [
    {
     "name": "stdout",
     "output_type": "stream",
     "text": [
      "1 4 9 16 25 "
     ]
    }
   ],
   "source": [
    "for i in map(square, mynums):\n",
    "    print(i, end=' ')"
   ]
  },
  {
   "cell_type": "code",
   "execution_count": 273,
   "metadata": {},
   "outputs": [
    {
     "data": {
      "text/plain": [
       "[1, 4, 9, 16, 25]"
      ]
     },
     "execution_count": 273,
     "metadata": {},
     "output_type": "execute_result"
    }
   ],
   "source": [
    "# Add the result of Map to List\n",
    "list(map(square, mynums))"
   ]
  },
  {
   "cell_type": "code",
   "execution_count": 281,
   "metadata": {},
   "outputs": [],
   "source": [
    "# Example 2 :\n",
    "def splicer(mystring):\n",
    "    \n",
    "    if len(mystring) % 2 == 0:\n",
    "        return 'EVEN'\n",
    "    else:\n",
    "        return mystring[0]"
   ]
  },
  {
   "cell_type": "code",
   "execution_count": 283,
   "metadata": {},
   "outputs": [
    {
     "data": {
      "text/plain": [
       "['EVEN', 'B', 'C']"
      ]
     },
     "execution_count": 283,
     "metadata": {},
     "output_type": "execute_result"
    }
   ],
   "source": [
    "name_list = ['AB', 'B', 'C']\n",
    "\n",
    "# We dont need to loop it\n",
    "list(map(splicer, name_list))"
   ]
  },
  {
   "cell_type": "code",
   "execution_count": 285,
   "metadata": {},
   "outputs": [
    {
     "data": {
      "text/plain": [
       "[2, 4, 6]"
      ]
     },
     "execution_count": 285,
     "metadata": {},
     "output_type": "execute_result"
    }
   ],
   "source": [
    "def check_even(num):\n",
    "\n",
    "    return num % 2 == 0\n",
    "\n",
    "mynums = [1,2,3,4,5,6]\n",
    "\n",
    "list(filter(check_even, mynums))"
   ]
  },
  {
   "cell_type": "code",
   "execution_count": 286,
   "metadata": {},
   "outputs": [
    {
     "name": "stdout",
     "output_type": "stream",
     "text": [
      "2 4 6 "
     ]
    }
   ],
   "source": [
    "for i in list(filter(check_even, mynums)):\n",
    "    print(i, end=' ')"
   ]
  },
  {
   "cell_type": "code",
   "execution_count": null,
   "metadata": {},
   "outputs": [],
   "source": [
    "# Lambda Expression"
   ]
  }
 ],
 "metadata": {
  "interpreter": {
   "hash": "aee8b7b246df8f9039afb4144a1f6fd8d2ca17a180786b69acc140d282b71a49"
  },
  "kernelspec": {
   "display_name": "Python 3.9.7 64-bit",
   "language": "python",
   "name": "python3"
  },
  "language_info": {
   "codemirror_mode": {
    "name": "ipython",
    "version": 3
   },
   "file_extension": ".py",
   "mimetype": "text/x-python",
   "name": "python",
   "nbconvert_exporter": "python",
   "pygments_lexer": "ipython3",
   "version": "3.9.7"
  },
  "orig_nbformat": 4
 },
 "nbformat": 4,
 "nbformat_minor": 2
}
