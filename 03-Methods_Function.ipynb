{
 "cells": [
  {
   "cell_type": "markdown",
   "metadata": {},
   "source": [
    "## <b> Method"
   ]
  },
  {
   "cell_type": "code",
   "execution_count": 55,
   "metadata": {},
   "outputs": [],
   "source": [
    "# Method\n",
    "# Built-in objects in python\n",
    "\n",
    "mylist = [1, 2, 3]"
   ]
  },
  {
   "cell_type": "code",
   "execution_count": 56,
   "metadata": {},
   "outputs": [],
   "source": [
    "mylist.append(4)\n",
    "mylist.sort(reverse=True)"
   ]
  },
  {
   "cell_type": "code",
   "execution_count": 57,
   "metadata": {},
   "outputs": [
    {
     "name": "stdout",
     "output_type": "stream",
     "text": [
      "Help on built-in function append:\n",
      "\n",
      "append(object, /) method of builtins.list instance\n",
      "    Append object to the end of the list.\n",
      "\n"
     ]
    }
   ],
   "source": [
    "# Open documentation, more in docs.python.org\n",
    "help(mylist.append)"
   ]
  },
  {
   "cell_type": "code",
   "execution_count": 58,
   "metadata": {},
   "outputs": [
    {
     "data": {
      "text/plain": [
       "[4, 3, 2, 1]"
      ]
     },
     "execution_count": 58,
     "metadata": {},
     "output_type": "execute_result"
    }
   ],
   "source": [
    "mylist"
   ]
  },
  {
   "cell_type": "markdown",
   "metadata": {},
   "source": [
    "## <b> Function"
   ]
  },
  {
   "cell_type": "code",
   "execution_count": 59,
   "metadata": {},
   "outputs": [
    {
     "name": "stdout",
     "output_type": "stream",
     "text": [
      "Hello world\n",
      "My name is Raihan\n"
     ]
    }
   ],
   "source": [
    "# Repeatable code\n",
    "# Snake casing for name (all lowercase with underscore between word)\n",
    "# Use snake casing for readable\n",
    "# use ''' function definition ''' to make docstring explains function\n",
    "\n",
    "# Example 1\n",
    "def hello_world():\n",
    "    '''\n",
    "    Function to print Hello world\n",
    "    '''\n",
    "    print('Hello world')\n",
    "\n",
    "hello_world()\n",
    "\n",
    "# Example 2\n",
    "def my_name_is(name):\n",
    "    '''\n",
    "    Function to print my name\n",
    "    '''\n",
    "    print(f'My name is {name}')\n",
    "\n",
    "my_name_is('Raihan')"
   ]
  },
  {
   "cell_type": "code",
   "execution_count": 60,
   "metadata": {},
   "outputs": [
    {
     "name": "stdout",
     "output_type": "stream",
     "text": [
      "3\n"
     ]
    }
   ],
   "source": [
    "# Use Return to assign the output to a new variable\n",
    "def add_two_number(number1, number2):\n",
    "    return number1 + number2\n",
    "\n",
    "return_function = add_two_number(1,2)\n",
    "print(return_function)"
   ]
  },
  {
   "cell_type": "code",
   "execution_count": 61,
   "metadata": {},
   "outputs": [
    {
     "name": "stdout",
     "output_type": "stream",
     "text": [
      "Hello\n"
     ]
    }
   ],
   "source": [
    "def say_hello():\n",
    "    print('Hello')\n",
    "\n",
    "say_hello()"
   ]
  },
  {
   "cell_type": "code",
   "execution_count": 62,
   "metadata": {},
   "outputs": [
    {
     "name": "stdout",
     "output_type": "stream",
     "text": [
      "Hello Default\n"
     ]
    }
   ],
   "source": [
    "def say_hello(name='Default'):\n",
    "    print(f'Hello {name}')\n",
    "\n",
    "# Initialize default to handling error\n",
    "say_hello()"
   ]
  },
  {
   "cell_type": "code",
   "execution_count": 63,
   "metadata": {},
   "outputs": [
    {
     "data": {
      "text/plain": [
       "'1010'"
      ]
     },
     "execution_count": 63,
     "metadata": {},
     "output_type": "execute_result"
    }
   ],
   "source": [
    "# Python is dynamic type, possible to bugs\n",
    "add_two_number('10','10')"
   ]
  },
  {
   "cell_type": "code",
   "execution_count": 64,
   "metadata": {},
   "outputs": [
    {
     "data": {
      "text/plain": [
       "True"
      ]
     },
     "execution_count": 64,
     "metadata": {},
     "output_type": "execute_result"
    }
   ],
   "source": [
    "# Function with Logid\n",
    "\n",
    "# Example 1 :\n",
    "def check_if_even(number1):\n",
    "    return number1 % 2 == 0\n",
    "\n",
    "check_if_even(10)"
   ]
  },
  {
   "cell_type": "code",
   "execution_count": 65,
   "metadata": {},
   "outputs": [
    {
     "data": {
      "text/plain": [
       "[2, 4, 6, 8, 10, 12, 14, 16, 18]"
      ]
     },
     "execution_count": 65,
     "metadata": {},
     "output_type": "execute_result"
    }
   ],
   "source": [
    "# Example 2:\n",
    "def even_inside_list(num_list):\n",
    "    even_num_list = []\n",
    "    for i in num_list:\n",
    "        even_num_list = [x for x in num_list if x % 2 == 0]\n",
    "    return even_num_list\n",
    "\n",
    "listtt = even_inside_list([i for i in range(1,20)])\n",
    "listtt"
   ]
  },
  {
   "cell_type": "code",
   "execution_count": 66,
   "metadata": {},
   "outputs": [
    {
     "data": {
      "text/plain": [
       "[2]"
      ]
     },
     "execution_count": 66,
     "metadata": {},
     "output_type": "execute_result"
    }
   ],
   "source": [
    "listtt = even_inside_list([1,1,1,1,1,2])\n",
    "listtt"
   ]
  },
  {
   "cell_type": "code",
   "execution_count": 67,
   "metadata": {},
   "outputs": [
    {
     "data": {
      "text/plain": [
       "True"
      ]
     },
     "execution_count": 67,
     "metadata": {},
     "output_type": "execute_result"
    }
   ],
   "source": [
    "def check_even_list(num_list):\n",
    "    \n",
    "    for i in num_list:\n",
    "        if i % 2 == 0:\n",
    "            return True\n",
    "        else:\n",
    "            # Not do anything\n",
    "            pass\n",
    "\n",
    "    return False\n",
    "\n",
    "result = check_even_list([1,2,3,4,5,6,7])\n",
    "result"
   ]
  },
  {
   "cell_type": "code",
   "execution_count": 68,
   "metadata": {},
   "outputs": [
    {
     "name": "stdout",
     "output_type": "stream",
     "text": [
      "('APPL', 200)\n",
      "('GOOG', 400)\n"
     ]
    }
   ],
   "source": [
    "# Tuple Unpacking\n",
    "stock_prices = [('APPL',200),('GOOG',400)]\n",
    "for i in stock_prices:\n",
    "    print(i)"
   ]
  },
  {
   "cell_type": "code",
   "execution_count": 69,
   "metadata": {},
   "outputs": [
    {
     "name": "stdout",
     "output_type": "stream",
     "text": [
      "APPL200\n",
      "GOOG400\n"
     ]
    }
   ],
   "source": [
    "for ticker, price in stock_prices:\n",
    "    print(f'{ticker}{price}')"
   ]
  },
  {
   "cell_type": "code",
   "execution_count": 70,
   "metadata": {},
   "outputs": [
    {
     "name": "stdout",
     "output_type": "stream",
     "text": [
      "Name : RRR, Work for 100\n",
      "Name : SY, Work for 200\n",
      "Name : ZZA, Work for 150\n"
     ]
    }
   ],
   "source": [
    "# Function\n",
    "work_hours = [('RRR',100),('SY',200),('ZZA',150)]\n",
    "def unpacking_tuple(list_tuple):\n",
    "    for name, hours in work_hours:\n",
    "        print (f'Name : {name}, Work for {hours}')\n",
    "\n",
    "unpacking_tuple(work_hours)\n"
   ]
  },
  {
   "cell_type": "code",
   "execution_count": 71,
   "metadata": {},
   "outputs": [
    {
     "name": "stdout",
     "output_type": "stream",
     "text": [
      "SY is the employee of the month with 200H\n"
     ]
    },
    {
     "data": {
      "text/plain": [
       "('SY', 200)"
      ]
     },
     "execution_count": 71,
     "metadata": {},
     "output_type": "execute_result"
    }
   ],
   "source": [
    "def employee_check(work_hours):\n",
    "    current_max_hour = 0\n",
    "    employee_of_the_month = ''\n",
    "\n",
    "    for name, hour in work_hours:\n",
    "        if hour > current_max_hour:\n",
    "            current_max_hour = hour\n",
    "            employee_of_the_month = name\n",
    "\n",
    "    print(f'{employee_of_the_month} is the employee of the month with {current_max_hour}H')\n",
    "    return(employee_of_the_month, current_max_hour)\n",
    "\n",
    "employee_check(work_hours)"
   ]
  },
  {
   "cell_type": "code",
   "execution_count": 72,
   "metadata": {},
   "outputs": [],
   "source": [
    "# Interaction between function (Game)\n",
    "# Use output another function to be input to another function\n",
    "\n",
    "from random import shuffle\n",
    "\n",
    "def shuffle_list(example):\n",
    "    \n",
    "    shuffle(example)\n",
    "    return example"
   ]
  },
  {
   "cell_type": "code",
   "execution_count": 73,
   "metadata": {},
   "outputs": [],
   "source": [
    "def player_guess():\n",
    "    \n",
    "    guess = ''\n",
    "\n",
    "    while guess not in ['0', '1', '2']:\n",
    "        guess = input(\"Pick a number : 0,1, or 2\")\n",
    "\n",
    "    return int(guess)"
   ]
  },
  {
   "cell_type": "code",
   "execution_count": 74,
   "metadata": {},
   "outputs": [
    {
     "data": {
      "text/plain": [
       "1"
      ]
     },
     "execution_count": 74,
     "metadata": {},
     "output_type": "execute_result"
    }
   ],
   "source": [
    "player_index = player_guess()\n",
    "player_index"
   ]
  },
  {
   "cell_type": "code",
   "execution_count": 75,
   "metadata": {},
   "outputs": [],
   "source": [
    "# Interacting 2 Function\n",
    "\n",
    "example = ['','O','']\n",
    "def check_answer(example, player_index):\n",
    "    if example[player_index] == 'O':\n",
    "        print(\"WIN WIN CHICKEN WINNER\")\n",
    "    else:\n",
    "        print('IDIOT')\n",
    "        print(example)"
   ]
  },
  {
   "cell_type": "code",
   "execution_count": 76,
   "metadata": {},
   "outputs": [
    {
     "name": "stdout",
     "output_type": "stream",
     "text": [
      "IDIOT\n",
      "['O', ' ', ' ']\n"
     ]
    }
   ],
   "source": [
    "mylist = [' ', 'O', ' ']\n",
    "\n",
    "mix_list = shuffle_list(mylist)\n",
    "\n",
    "guess = player_guess()\n",
    "\n",
    "check_answer(mix_list, guess)"
   ]
  },
  {
   "cell_type": "code",
   "execution_count": 77,
   "metadata": {},
   "outputs": [
    {
     "name": "stdout",
     "output_type": "stream",
     "text": [
      "{'car': 'brio', 'fruits': 'apple', 'school': 'CM'}\n",
      "Nor find any fruit\n"
     ]
    }
   ],
   "source": [
    "# *args and **kwargs\n",
    "# We can add many number without adding on parameter with *args\n",
    "\n",
    "# *args return tuple ()\n",
    "def myfun_with_args(*args):\n",
    "    ''' \n",
    "    return 5% of the sum of a and b\n",
    "    '''\n",
    "\n",
    "    return(sum(args) * 0.05)\n",
    "\n",
    "myfun_with_args(1,2,3,4,5,6,7,8,9)\n",
    "\n",
    "\n",
    "# **kwargs return dictio\n",
    "def myfun_with_kwargs(**kwargs):\n",
    "    print(kwargs)\n",
    "    if 'fruit' in kwargs:\n",
    "        print('My fruit is {}'.format(kwargs['fruit']))\n",
    "    else:\n",
    "        print('Nor find any fruit')\n",
    "\n",
    "myfun_with_kwargs(car = 'brio', fruits = 'apple', school = 'CM')\n",
    "\n"
   ]
  },
  {
   "cell_type": "code",
   "execution_count": 78,
   "metadata": {},
   "outputs": [
    {
     "name": "stdout",
     "output_type": "stream",
     "text": [
      "I like 10 Burger\n"
     ]
    }
   ],
   "source": [
    "# Print number index 0 with args, and print dictionary with key = food with kwargs\n",
    "def myfunc_args_kwargs(*args, **kwargs):\n",
    "    print('I like {} {}'.format(args[0], kwargs['food']))\n",
    "\n",
    "myfunc_args_kwargs(10,20,30,food = 'Burger')"
   ]
  },
  {
   "cell_type": "code",
   "execution_count": 79,
   "metadata": {},
   "outputs": [
    {
     "name": "stdout",
     "output_type": "stream",
     "text": [
      "HeLlO\n"
     ]
    }
   ],
   "source": [
    "def myfunc(some_string):\n",
    "\n",
    "    for i in some_string:\n",
    "        if i % 2 == 0:\n",
    "            i.upper\n",
    "\n",
    "\n",
    "s = 'Hello'\n",
    "result = []\n",
    "for i in range(len(s)):\n",
    "    if i % 2 == 0:\n",
    "        result.append(s[i].upper())\n",
    "    else:\n",
    "        result.append(s[i].lower())\n",
    "\n",
    "print(''.join(result))"
   ]
  },
  {
   "cell_type": "code",
   "execution_count": 80,
   "metadata": {},
   "outputs": [
    {
     "data": {
      "text/plain": [
       "<map at 0x7fea48459970>"
      ]
     },
     "execution_count": 80,
     "metadata": {},
     "output_type": "execute_result"
    }
   ],
   "source": [
    "# Lambda Expression, Map and Filter\n",
    "\n",
    "# Map Function\n",
    "def square(number):\n",
    "    return number ** 2\n",
    "\n",
    "mynums = [1,2,3,4,5]\n",
    "\n",
    "# We dont have to loop, Map to every single item in the list\n",
    "map(square, mynums)"
   ]
  },
  {
   "cell_type": "code",
   "execution_count": 81,
   "metadata": {},
   "outputs": [
    {
     "name": "stdout",
     "output_type": "stream",
     "text": [
      "1 4 9 16 25 "
     ]
    }
   ],
   "source": [
    "for i in map(square, mynums):\n",
    "    print(i, end=' ')"
   ]
  },
  {
   "cell_type": "code",
   "execution_count": 82,
   "metadata": {},
   "outputs": [
    {
     "data": {
      "text/plain": [
       "[1, 4, 9, 16, 25]"
      ]
     },
     "execution_count": 82,
     "metadata": {},
     "output_type": "execute_result"
    }
   ],
   "source": [
    "# Add the result of Map to List\n",
    "list(map(square, mynums))"
   ]
  },
  {
   "cell_type": "code",
   "execution_count": 83,
   "metadata": {},
   "outputs": [],
   "source": [
    "# Example 2 :\n",
    "def splicer(mystring):\n",
    "    \n",
    "    if len(mystring) % 2 == 0:\n",
    "        return 'EVEN'\n",
    "    else:\n",
    "        return mystring[0]"
   ]
  },
  {
   "cell_type": "code",
   "execution_count": 84,
   "metadata": {},
   "outputs": [
    {
     "data": {
      "text/plain": [
       "['EVEN', 'R', 'R']"
      ]
     },
     "execution_count": 84,
     "metadata": {},
     "output_type": "execute_result"
    }
   ],
   "source": [
    "name_list = ['Raihan', 'Romzi', 'Rakhman']\n",
    "\n",
    "# We dont need to loop it\n",
    "list(map(splicer, name_list))"
   ]
  },
  {
   "cell_type": "code",
   "execution_count": 85,
   "metadata": {},
   "outputs": [
    {
     "data": {
      "text/plain": [
       "[2, 4, 6]"
      ]
     },
     "execution_count": 85,
     "metadata": {},
     "output_type": "execute_result"
    }
   ],
   "source": [
    "def check_even(num):\n",
    "\n",
    "    return num % 2 == 0\n",
    "\n",
    "mynums = [1,2,3,4,5,6]\n",
    "\n",
    "list(filter(check_even, mynums))"
   ]
  },
  {
   "cell_type": "code",
   "execution_count": 86,
   "metadata": {},
   "outputs": [
    {
     "name": "stdout",
     "output_type": "stream",
     "text": [
      "2 4 6 "
     ]
    }
   ],
   "source": [
    "for i in list(filter(check_even, mynums)):\n",
    "    print(i, end=' ')"
   ]
  },
  {
   "cell_type": "code",
   "execution_count": 87,
   "metadata": {},
   "outputs": [],
   "source": [
    "# Lambda Expression\n",
    "def squre(num):\n",
    "    result = num ** 2\n",
    "    return result"
   ]
  },
  {
   "cell_type": "code",
   "execution_count": 88,
   "metadata": {},
   "outputs": [],
   "source": [
    "# Turn into Lambda Expression\n",
    "\n",
    "# Step 1 : Simply the function\n",
    "def squre(num):\n",
    "    return num ** 2\n",
    "\n",
    "# Step 2 : Make it one line (optional)\n",
    "def square(num): return num ** 2\n",
    "\n",
    "# Step 3 : Convert into Lambda Expression (Anonymous function)\n",
    "square = lambda num: num ** 2\n"
   ]
  },
  {
   "cell_type": "code",
   "execution_count": 89,
   "metadata": {},
   "outputs": [
    {
     "data": {
      "text/plain": [
       "[1, 4, 9, 16, 25, 36]"
      ]
     },
     "execution_count": 89,
     "metadata": {},
     "output_type": "execute_result"
    }
   ],
   "source": [
    "# Lambda Expression use with map or filter, if you only run it once\n",
    "list(map(lambda num: num ** 2, mynums))"
   ]
  },
  {
   "cell_type": "code",
   "execution_count": 90,
   "metadata": {},
   "outputs": [
    {
     "data": {
      "text/plain": [
       "[2, 4, 6]"
      ]
     },
     "execution_count": 90,
     "metadata": {},
     "output_type": "execute_result"
    }
   ],
   "source": [
    "lambda num: num % 2 == 0\n",
    "list(filter(lambda num: num % 2 == 0, mynums))"
   ]
  },
  {
   "cell_type": "code",
   "execution_count": 91,
   "metadata": {},
   "outputs": [
    {
     "data": {
      "text/plain": [
       "25"
      ]
     },
     "execution_count": 91,
     "metadata": {},
     "output_type": "execute_result"
    }
   ],
   "source": [
    "square(5)"
   ]
  },
  {
   "cell_type": "code",
   "execution_count": 92,
   "metadata": {},
   "outputs": [
    {
     "name": "stdout",
     "output_type": "stream",
     "text": [
      "R\n"
     ]
    }
   ],
   "source": [
    "# Grab first char of String\n",
    "name_list\n",
    "name_list[0]\n",
    "\n",
    "def first_char(list):\n",
    "    for i in list[2]:\n",
    "        print(i)\n",
    "        break\n",
    "\n",
    "first_char(name_list)"
   ]
  },
  {
   "cell_type": "code",
   "execution_count": 93,
   "metadata": {},
   "outputs": [],
   "source": [
    "name_list = ['']"
   ]
  },
  {
   "cell_type": "code",
   "execution_count": 94,
   "metadata": {},
   "outputs": [
    {
     "data": {
      "text/plain": [
       "['']"
      ]
     },
     "execution_count": 94,
     "metadata": {},
     "output_type": "execute_result"
    }
   ],
   "source": [
    "list(map(lambda i: i[::-1],name_list))"
   ]
  },
  {
   "cell_type": "markdown",
   "metadata": {},
   "source": [
    "## <b> Nested Statement "
   ]
  },
  {
   "cell_type": "markdown",
   "metadata": {},
   "source": [
    "### LEGB Rule :\n",
    "L : Local\n",
    "E : Enclosing Function Local\n",
    "G : Global\n",
    "B : Built-in"
   ]
  },
  {
   "cell_type": "code",
   "execution_count": 95,
   "metadata": {},
   "outputs": [
    {
     "data": {
      "text/plain": [
       "<function __main__.<lambda>(num)>"
      ]
     },
     "execution_count": 95,
     "metadata": {},
     "output_type": "execute_result"
    }
   ],
   "source": [
    "# Local (inside function)\n",
    "lambda num: num ** 2"
   ]
  },
  {
   "cell_type": "code",
   "execution_count": 96,
   "metadata": {},
   "outputs": [
    {
     "name": "stdout",
     "output_type": "stream",
     "text": [
      "Hello Raihan\n"
     ]
    }
   ],
   "source": [
    "# Global\n",
    "name = 'THIS IS GLOBAL STRING'\n",
    "\n",
    "def greet():\n",
    "\n",
    "    # Add global inside the function\n",
    "    global name\n",
    "\n",
    "    # Enclosing\n",
    "    name = 'Sammy'\n",
    "\n",
    "    def hello():\n",
    "        # Local\n",
    "        name = 'Raihan'\n",
    "        print('Hello ' + name)\n",
    "\n",
    "    hello()\n",
    "\n",
    "greet()"
   ]
  },
  {
   "cell_type": "markdown",
   "metadata": {},
   "source": [
    "<br>"
   ]
  },
  {
   "cell_type": "markdown",
   "metadata": {},
   "source": [
    "### <b> Practice"
   ]
  },
  {
   "cell_type": "code",
   "execution_count": 97,
   "metadata": {},
   "outputs": [],
   "source": [
    "from math import pi\n",
    "\n",
    "def vol(rad):\n",
    "    print(4/3 * pi * rad ** 3)"
   ]
  },
  {
   "cell_type": "code",
   "execution_count": 98,
   "metadata": {},
   "outputs": [
    {
     "name": "stdout",
     "output_type": "stream",
     "text": [
      "33.510321638291124\n"
     ]
    }
   ],
   "source": [
    "vol(2)"
   ]
  },
  {
   "cell_type": "code",
   "execution_count": 99,
   "metadata": {},
   "outputs": [],
   "source": [
    "def ran_check(num, low, high):\n",
    "    if num > low & num < high:\n",
    "        print(f'{num} is in the range between {low} and {high}')"
   ]
  },
  {
   "cell_type": "code",
   "execution_count": 100,
   "metadata": {},
   "outputs": [
    {
     "name": "stdout",
     "output_type": "stream",
     "text": [
      "5 is in the range between 2 and 7\n"
     ]
    }
   ],
   "source": [
    "ran_check(5,2,7)"
   ]
  },
  {
   "cell_type": "code",
   "execution_count": 101,
   "metadata": {},
   "outputs": [],
   "source": [
    "def up_low(s):\n",
    "\n",
    "    count_low = 0\n",
    "    count_up = 0\n",
    "\n",
    "    for i in s:\n",
    "        if i.islower():\n",
    "            count_low += 1\n",
    "        elif i.isupper():\n",
    "            count_up += 1\n",
    "\n",
    "    print(f'Original String : {s}')\n",
    "    print(f'No. of Upper case character : {count_up}')\n",
    "    print(f'No. of Lower case character : {count_low}')\n"
   ]
  },
  {
   "cell_type": "code",
   "execution_count": 102,
   "metadata": {},
   "outputs": [
    {
     "name": "stdout",
     "output_type": "stream",
     "text": [
      "Original String : Hello Mr. Rogers, how are you this fine Tuesday?\n",
      "No. of Upper case character : 4\n",
      "No. of Lower case character : 33\n"
     ]
    }
   ],
   "source": [
    "s = 'Hello Mr. Rogers, how are you this fine Tuesday?'\n",
    "up_low(s)"
   ]
  },
  {
   "cell_type": "code",
   "execution_count": 103,
   "metadata": {},
   "outputs": [],
   "source": [
    "def unique_list(list2):\n",
    "    return list(set(list2))\n"
   ]
  },
  {
   "cell_type": "code",
   "execution_count": 104,
   "metadata": {},
   "outputs": [
    {
     "data": {
      "text/plain": [
       "[1, 2, 3, 4, 5]"
      ]
     },
     "execution_count": 104,
     "metadata": {},
     "output_type": "execute_result"
    }
   ],
   "source": [
    "unique_list([1,1,1,1,2,2,3,3,3,3,4,5])"
   ]
  },
  {
   "cell_type": "code",
   "execution_count": 105,
   "metadata": {},
   "outputs": [
    {
     "name": "stdout",
     "output_type": "stream",
     "text": [
      "-24\n"
     ]
    }
   ],
   "source": [
    "def multiply(numbers):\n",
    "\n",
    "    multiply = 1\n",
    "    for i in numbers:\n",
    "        multiply*=i    \n",
    "\n",
    "    print(multiply)\n",
    "\n",
    "multiply([1,2,3,-4])\n"
   ]
  },
  {
   "cell_type": "code",
   "execution_count": 106,
   "metadata": {},
   "outputs": [
    {
     "data": {
      "text/plain": [
       "True"
      ]
     },
     "execution_count": 106,
     "metadata": {},
     "output_type": "execute_result"
    }
   ],
   "source": [
    "def palindrome(s):\n",
    "    s = s.replace(' ','')\n",
    "    palindome_check = s[::-1]\n",
    "    if s == palindome_check:\n",
    "        return True\n",
    "\n",
    "palindrome('abba')"
   ]
  },
  {
   "cell_type": "code",
   "execution_count": 107,
   "metadata": {},
   "outputs": [
    {
     "data": {
      "text/plain": [
       "True"
      ]
     },
     "execution_count": 107,
     "metadata": {},
     "output_type": "execute_result"
    }
   ],
   "source": [
    "palindrome('nurses run')"
   ]
  },
  {
   "cell_type": "code",
   "execution_count": 108,
   "metadata": {},
   "outputs": [
    {
     "data": {
      "text/plain": [
       "<map at 0x7fea48488970>"
      ]
     },
     "execution_count": 108,
     "metadata": {},
     "output_type": "execute_result"
    }
   ],
   "source": [
    "s = \"The quick brown fox jumps over the lazy dog\"\n",
    "\n",
    "map(lambda i: i[::-1],s)"
   ]
  },
  {
   "cell_type": "code",
   "execution_count": null,
   "metadata": {},
   "outputs": [],
   "source": []
  }
 ],
 "metadata": {
  "interpreter": {
   "hash": "aee8b7b246df8f9039afb4144a1f6fd8d2ca17a180786b69acc140d282b71a49"
  },
  "kernelspec": {
   "display_name": "Python 3.9.7 64-bit",
   "language": "python",
   "name": "python3"
  },
  "language_info": {
   "codemirror_mode": {
    "name": "ipython",
    "version": 3
   },
   "file_extension": ".py",
   "mimetype": "text/x-python",
   "name": "python",
   "nbconvert_exporter": "python",
   "pygments_lexer": "ipython3",
   "version": "3.9.7"
  },
  "orig_nbformat": 4
 },
 "nbformat": 4,
 "nbformat_minor": 2
}
