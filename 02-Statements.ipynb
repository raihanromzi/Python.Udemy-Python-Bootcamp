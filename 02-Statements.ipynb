{
 "cells": [
  {
   "cell_type": "code",
   "execution_count": 1,
   "metadata": {},
   "outputs": [
    {
     "name": "stdout",
     "output_type": "stream",
     "text": [
      "Im not hungry\n"
     ]
    }
   ],
   "source": [
    "# IF-ELSE\n",
    "hungry = False\n",
    "\n",
    "if hungry:\n",
    "    print('Feedme')\n",
    "else:\n",
    "    print('Im not hungry')"
   ]
  },
  {
   "cell_type": "code",
   "execution_count": 2,
   "metadata": {},
   "outputs": [
    {
     "name": "stdout",
     "output_type": "stream",
     "text": [
      "Where is your location\n",
      "Money is cool!\n"
     ]
    }
   ],
   "source": [
    "print(\"Where is your location\")\n",
    "loc = input()\n",
    "\n",
    "if loc == 'Auto Shop':\n",
    "    print('Cars are cool!')\n",
    "elif loc == 'Bank':\n",
    "    print('Money is cool!')\n",
    "elif loc == 'Store':\n",
    "    print('Welcome to the store!')\n",
    "else:\n",
    "    print('I do not know much')"
   ]
  },
  {
   "cell_type": "code",
   "execution_count": 8,
   "metadata": {},
   "outputs": [
    {
     "name": "stdout",
     "output_type": "stream",
     "text": [
      "The number inside list is 1\n",
      "The number inside list is 2\n",
      "The number inside list is 3\n"
     ]
    }
   ],
   "source": [
    "# FOR-LOOP\n",
    "my_list = [1,2,3,4,5,6,7,8,9,10]\n",
    "for i in my_list:\n",
    "    print(f'The number inside list is {}')"
   ]
  },
  {
   "cell_type": "code",
   "execution_count": 9,
   "metadata": {},
   "outputs": [
    {
     "name": "stdout",
     "output_type": "stream",
     "text": [
      "i equal 1\n",
      "i equal 2\n",
      "i equal 3\n"
     ]
    }
   ],
   "source": [
    "for i in range(1,4):\n",
    "    print('i equal {}'.format(i))"
   ]
  },
  {
   "cell_type": "code",
   "execution_count": 10,
   "metadata": {},
   "outputs": [
    {
     "name": "stdout",
     "output_type": "stream",
     "text": [
      "Odd number: 1\n",
      "2\n",
      "Odd number: 3\n"
     ]
    }
   ],
   "source": [
    "for i in my_list:\n",
    "    if i % 2 == 0:\n",
    "        print(i)\n",
    "    else:\n",
    "        print(f'Odd number: {i}')"
   ]
  },
  {
   "cell_type": "code",
   "execution_count": 11,
   "metadata": {},
   "outputs": [
    {
     "name": "stdout",
     "output_type": "stream",
     "text": [
      "Total sum : 6\n"
     ]
    }
   ],
   "source": [
    "list_sum = 0\n",
    "for i in my_list:\n",
    "    list_sum += i\n",
    "\n",
    "print(f'Total sum : {list_sum}')"
   ]
  },
  {
   "cell_type": "code",
   "execution_count": 18,
   "metadata": {},
   "outputs": [
    {
     "name": "stdout",
     "output_type": "stream",
     "text": [
      "cool!\n",
      "cool!\n",
      "cool!\n",
      "cool!\n"
     ]
    }
   ],
   "source": [
    "for _ in range (0,4):\n",
    "    print('cool!')"
   ]
  },
  {
   "cell_type": "code",
   "execution_count": 19,
   "metadata": {},
   "outputs": [
    {
     "name": "stdout",
     "output_type": "stream",
     "text": [
      "1\n",
      "2\n",
      "3\n"
     ]
    }
   ],
   "source": [
    "tuple = (1,2,3)\n",
    "for i in tuple:\n",
    "    print(i)"
   ]
  },
  {
   "cell_type": "code",
   "execution_count": 28,
   "metadata": {},
   "outputs": [
    {
     "name": "stdout",
     "output_type": "stream",
     "text": [
      "1\n",
      "2\n",
      "3\n",
      "4\n",
      "5\n",
      "6\n",
      "7\n",
      "8\n",
      "9\n"
     ]
    }
   ],
   "source": [
    "# Unpacking Tuple, so have individual access\n",
    "mylist = [(1,2,3),(4,5,6),(7,8,9)]\n",
    "for a,b,c in mylist:\n",
    "    print(a)\n",
    "    print(b)\n",
    "    print(c)"
   ]
  },
  {
   "cell_type": "code",
   "execution_count": null,
   "metadata": {},
   "outputs": [],
   "source": [
    "# Loop in Dictionary"
   ]
  },
  {
   "cell_type": "code",
   "execution_count": 44,
   "metadata": {},
   "outputs": [
    {
     "name": "stdout",
     "output_type": "stream",
     "text": [
      "1\n",
      "2\n"
     ]
    }
   ],
   "source": [
    "d = {'k1' : 1, 'k2' : 2}\n",
    "for value in d.values():\n",
    "    print(value)"
   ]
  },
  {
   "cell_type": "code",
   "execution_count": 59,
   "metadata": {},
   "outputs": [
    {
     "name": "stdout",
     "output_type": "stream",
     "text": [
      "# # # # \n",
      "# # # # \n",
      "# # # # \n",
      "# # # # \n"
     ]
    }
   ],
   "source": [
    "for i in range(4):\n",
    "    for i in range(4):\n",
    "        print('#',end=\" \")\n",
    "    print()\n"
   ]
  },
  {
   "cell_type": "code",
   "execution_count": 95,
   "metadata": {},
   "outputs": [
    {
     "name": "stdout",
     "output_type": "stream",
     "text": [
      "# \n",
      "# # \n",
      "# # # \n",
      "# # # # \n",
      "# \n",
      "# # \n",
      "# # # \n",
      "# # # # \n",
      "\n",
      "# # # # \n",
      "# # # \n",
      "# # \n",
      "# \n"
     ]
    }
   ],
   "source": [
    "for i in range(1):\n",
    "    print('#',end=\" \")\n",
    "print()\n",
    "for i in range(2):\n",
    "    print('#', end=\" \")\n",
    "print()\n",
    "for i in range(3):\n",
    "    print('#',end=\" \")\n",
    "print()\n",
    "for i in range(4):\n",
    "    print('#',end=\" \")\n",
    "\n",
    "# OR\n",
    "for i in range(5):\n",
    "    for j in range(i):\n",
    "        print('#', end=\" \")\n",
    "        i = i + 1\n",
    "    print()\n",
    "\n",
    "print()\n",
    "# OR\n",
    "for i in range(4):\n",
    "    for j in range (4 - i):\n",
    "        print('#', end=\" \")\n",
    "        i = i - 1\n",
    "    print()\n",
    "\n",
    "# OR\n"
   ]
  },
  {
   "cell_type": "code",
   "execution_count": 101,
   "metadata": {},
   "outputs": [
    {
     "name": "stdout",
     "output_type": "stream",
     "text": [
      "# \n",
      "# # \n",
      "# # # \n",
      "# # # # \n"
     ]
    }
   ],
   "source": [
    "for i in range(4):\n",
    "    for i in range(i + 1):\n",
    "        print('#', end=\" \")\n",
    "    print()"
   ]
  },
  {
   "cell_type": "code",
   "execution_count": 154,
   "metadata": {},
   "outputs": [
    {
     "name": "stdout",
     "output_type": "stream",
     "text": [
      " **  **\n",
      "*   *   *\n",
      "*       *\n",
      " *     *\n",
      "  *   *  \n",
      "    *   \n",
      " **  **\n",
      "*   *   *\n",
      "*       *\n",
      " *     *\n",
      "  *   *  \n",
      "    *   \n",
      " **  **\n",
      "*   *   *\n",
      "*       *\n",
      " *     *\n",
      "  *   *  \n",
      "    *   \n",
      " **  **\n",
      "*   *   *\n",
      "*       *\n",
      " *     *\n",
      "  *   *  \n",
      "    *   \n",
      " **  **\n",
      "*   *   *\n",
      "*       *\n",
      " *     *\n",
      "  *   *  \n",
      "    *   \n",
      " **  **\n",
      "*   *   *\n",
      "*       *\n",
      " *     *\n",
      "  *   *  \n",
      "    *   \n"
     ]
    }
   ],
   "source": [
    "for i in range(6):\n",
    "    for j in range (7):\n",
    "        if j == 0:\n",
    "            print(' **  **')\n",
    "        if j == 1:\n",
    "            print('*   *   *')\n",
    "        if j == 2:\n",
    "            print('*       *')\n",
    "        if j == 3:\n",
    "            print(' *     *')\n",
    "        if j == 4:\n",
    "            print('  *   *  ')\n",
    "        if j == 5:\n",
    "            print('    *   ')"
   ]
  },
  {
   "cell_type": "code",
   "execution_count": 155,
   "metadata": {},
   "outputs": [
    {
     "name": "stdout",
     "output_type": "stream",
     "text": [
      "# # # # \n",
      "# # # # \n",
      "# # # # \n",
      "# # # # \n"
     ]
    }
   ],
   "source": [
    "for i in range(4):\n",
    "    for j in range(4):\n",
    "        print('#',end=' ')\n",
    "    print()"
   ]
  },
  {
   "cell_type": "code",
   "execution_count": 156,
   "metadata": {},
   "outputs": [
    {
     "name": "stdout",
     "output_type": "stream",
     "text": [
      "# # # # \n",
      "# # # \n",
      "# # \n",
      "# \n"
     ]
    }
   ],
   "source": [
    "for i in range(4):\n",
    "    for j in range (4 - i):\n",
    "        print('#', end=' ')\n",
    "    print()"
   ]
  }
 ],
 "metadata": {
  "interpreter": {
   "hash": "aee8b7b246df8f9039afb4144a1f6fd8d2ca17a180786b69acc140d282b71a49"
  },
  "kernelspec": {
   "display_name": "Python 3.9.7 64-bit",
   "language": "python",
   "name": "python3"
  },
  "language_info": {
   "codemirror_mode": {
    "name": "ipython",
    "version": 3
   },
   "file_extension": ".py",
   "mimetype": "text/x-python",
   "name": "python",
   "nbconvert_exporter": "python",
   "pygments_lexer": "ipython3",
   "version": "3.9.7"
  },
  "orig_nbformat": 4
 },
 "nbformat": 4,
 "nbformat_minor": 2
}
