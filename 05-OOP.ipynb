{
 "cells": [
  {
   "cell_type": "markdown",
   "metadata": {},
   "source": [
    "## OOP"
   ]
  },
  {
   "cell_type": "code",
   "execution_count": 197,
   "metadata": {},
   "outputs": [],
   "source": [
    "# Using camel casing for class name\n",
    "# Example of class\n",
    "mylist = [1,2,3]\n",
    "myset = set()"
   ]
  },
  {
   "cell_type": "markdown",
   "metadata": {},
   "source": [
    "<br>"
   ]
  },
  {
   "cell_type": "markdown",
   "metadata": {},
   "source": [
    "### <B>Class"
   ]
  },
  {
   "cell_type": "code",
   "execution_count": 198,
   "metadata": {},
   "outputs": [],
   "source": [
    "# Camel Casing\n",
    "class Dog:\n",
    "\n",
    "    # Class object Attribute, same for any instance\n",
    "    species = 'mammal'\n",
    "\n",
    "    # Initializer the atribute (constructor) Automatically\n",
    "    def __init__(self, name, hair, legs):\n",
    "        \n",
    "        # Attribute\n",
    "        self.name = name\n",
    "        self.hair = hair\n",
    "        self.legs = legs\n",
    "\n",
    "    # Operation / Actions -> Method (Function inside class)\n",
    "\n",
    "    # Use self to connect to class, so we can use self.attribute\n",
    "    def bark(self, number):\n",
    "        print(f'WOOF! My name is {self.name} and my fav number is {number}')\n",
    "\n"
   ]
  },
  {
   "cell_type": "code",
   "execution_count": 199,
   "metadata": {},
   "outputs": [
    {
     "data": {
      "text/plain": [
       "__main__.Dog"
      ]
     },
     "execution_count": 199,
     "metadata": {},
     "output_type": "execute_result"
    }
   ],
   "source": [
    "# Instance of class named my_dof\n",
    "my_dog = Dog(name='Marvie',hair='Brown', legs=3)\n",
    "type(my_dog)"
   ]
  },
  {
   "cell_type": "code",
   "execution_count": 200,
   "metadata": {},
   "outputs": [
    {
     "data": {
      "text/plain": [
       "'Brown'"
      ]
     },
     "execution_count": 200,
     "metadata": {},
     "output_type": "execute_result"
    }
   ],
   "source": [
    "my_dog.hair"
   ]
  },
  {
   "cell_type": "code",
   "execution_count": 201,
   "metadata": {},
   "outputs": [
    {
     "data": {
      "text/plain": [
       "'mammal'"
      ]
     },
     "execution_count": 201,
     "metadata": {},
     "output_type": "execute_result"
    }
   ],
   "source": [
    "my_dog.species"
   ]
  },
  {
   "cell_type": "code",
   "execution_count": 202,
   "metadata": {},
   "outputs": [
    {
     "name": "stdout",
     "output_type": "stream",
     "text": [
      "WOOF! My name is Marvie and my fav number is 15\n"
     ]
    }
   ],
   "source": [
    "my_dog.bark(number= 15)"
   ]
  },
  {
   "cell_type": "code",
   "execution_count": 203,
   "metadata": {},
   "outputs": [],
   "source": [
    "# Circle class\n",
    "from math import pi\n",
    "\n",
    "class Circle:\n",
    "\n",
    "    def __init__(self, radius):\n",
    "        self.radius = radius\n",
    "        self.area = radius * radius * pi\n",
    "\n",
    "    def set_radius(self, new_radius):\n",
    "        self.radius = new_radius\n",
    "        self.area = new_radius * new_radius * pi\n",
    "\n",
    "    def get_circumference(self):\n",
    "        return self.radius * pi * 2\n",
    "\n",
    "    def display_info(self):\n",
    "        print(f'Radius is : {self.radius} \\nArea is : {self.area} \\nCircumference is : {self.get_circumference()}')\n"
   ]
  },
  {
   "cell_type": "code",
   "execution_count": 204,
   "metadata": {},
   "outputs": [],
   "source": [
    "my_circle = Circle(1)\n"
   ]
  },
  {
   "cell_type": "code",
   "execution_count": 205,
   "metadata": {},
   "outputs": [
    {
     "name": "stdout",
     "output_type": "stream",
     "text": [
      "Radius is : 1 \n",
      "Area is : 3.141592653589793 \n",
      "Circumference is : 6.283185307179586\n"
     ]
    }
   ],
   "source": [
    "my_circle.display_info()"
   ]
  },
  {
   "cell_type": "code",
   "execution_count": 206,
   "metadata": {},
   "outputs": [
    {
     "name": "stdout",
     "output_type": "stream",
     "text": [
      "Radius is : 2 \n",
      "Area is : 12.566370614359172 \n",
      "Circumference is : 12.566370614359172\n"
     ]
    }
   ],
   "source": [
    "my_circle.set_radius(2)\n",
    "my_circle.display_info()"
   ]
  },
  {
   "cell_type": "markdown",
   "metadata": {},
   "source": [
    "### <b>Inheritance "
   ]
  },
  {
   "cell_type": "code",
   "execution_count": 207,
   "metadata": {},
   "outputs": [],
   "source": [
    "# Reuse code\n",
    "class Animal:\n",
    "    '''\n",
    "    Parent class\n",
    "    '''\n",
    "    \n",
    "    def __init__(self):\n",
    "        print('Animal created')\n",
    "\n",
    "    def whoAmI(self):\n",
    "        print('Animal')\n",
    "\n",
    "    def eat(self):\n",
    "        print('Eating')"
   ]
  },
  {
   "cell_type": "code",
   "execution_count": 208,
   "metadata": {},
   "outputs": [],
   "source": [
    "class Dog(Animal):\n",
    "    def __init__(self):\n",
    "        Animal.__init__(self)\n",
    "        print('Dog created')\n",
    "\n",
    "    def whoAmI(self):\n",
    "        print('Dog')\n",
    "\n",
    "    def bark(self):\n",
    "        print('Woof!')"
   ]
  },
  {
   "cell_type": "code",
   "execution_count": 209,
   "metadata": {},
   "outputs": [
    {
     "name": "stdout",
     "output_type": "stream",
     "text": [
      "Animal created\n",
      "Dog created\n"
     ]
    }
   ],
   "source": [
    "d = Dog()"
   ]
  },
  {
   "cell_type": "code",
   "execution_count": 210,
   "metadata": {},
   "outputs": [
    {
     "name": "stdout",
     "output_type": "stream",
     "text": [
      "Dog\n",
      "Woof!\n",
      "Eating\n"
     ]
    }
   ],
   "source": [
    "d.whoAmI()\n",
    "d.bark()\n",
    "\n",
    "# Dog inherit eat from animal\n",
    "d.eat()"
   ]
  },
  {
   "cell_type": "code",
   "execution_count": null,
   "metadata": {},
   "outputs": [],
   "source": []
  }
 ],
 "metadata": {
  "interpreter": {
   "hash": "aee8b7b246df8f9039afb4144a1f6fd8d2ca17a180786b69acc140d282b71a49"
  },
  "kernelspec": {
   "display_name": "Python 3.9.7 64-bit",
   "language": "python",
   "name": "python3"
  },
  "language_info": {
   "codemirror_mode": {
    "name": "ipython",
    "version": 3
   },
   "file_extension": ".py",
   "mimetype": "text/x-python",
   "name": "python",
   "nbconvert_exporter": "python",
   "pygments_lexer": "ipython3",
   "version": "3.9.7"
  },
  "orig_nbformat": 4
 },
 "nbformat": 4,
 "nbformat_minor": 2
}
